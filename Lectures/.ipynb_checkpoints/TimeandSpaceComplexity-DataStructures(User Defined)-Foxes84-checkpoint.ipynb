{
 "cells": [
  {
   "cell_type": "markdown",
   "metadata": {},
   "source": [
    "# Time/Space Complexity - Intro to Data Structures (User Defined)\n",
    "\n",
    "### Topics to discuss today:\n",
    "\n",
    "<ul>\n",
    "    <li>Time and Space Complexity - What is it/How do we measure it</li>\n",
    "    <li>Asymptotic Analysis</li>\n",
    "    <li><strong>Data Structures</strong></li>\n",
    "    <li>Some of the popular sorting algorithms</li>\n",
    "</ul>\n",
    "\n",
    "### Data Structures to discuss:\n",
    "- Arrays\n",
    "- Stacks\n",
    "- Queues\n",
    "- Linked Lists\n",
    "    - Singly Linked Lists\n",
    "    - Traversing A Linked List\n",
    "    - Finding a node in a linked list\n",
    "    - Adding to a linked list\n"
   ]
  },
  {
   "cell_type": "markdown",
   "metadata": {},
   "source": [
    "## Time and Space Complexity\n",
    "\n",
    "#### What is it?\n",
    "\n",
    "Time and space complexity is the measure of how much time a given action(function) will take to solve a problem. In the same fashion, we determine how much a given data structure will need in terms of memory allocation. A problem can have multiple solutions and finding the optimal solution for the problem needs to be analyzed in time and space.\n",
    "\n",
    "#### How do we measure Time and Space Complexity?\n",
    "\n",
    "In order to measure time and space complexity we use Asymptotic analysis. The reason for this is because we need a way to measure different algorithms (functions) based on the size of their inputs in a mathmatical way. For example, we could have a function that is computed as f(n) and another that is g(n^2). All things around the function staying constant, the only thing that changes is the size of the input. Below is the chart that shows the different Asymptotic analysis formats. "
   ]
  },
  {
   "cell_type": "code",
   "execution_count": null,
   "metadata": {},
   "outputs": [],
   "source": [
    "# what we're actually measuring here is the amount of steps that algorithm takes for each piece of input n\n",
    "# a constant time algorithm - O(1)\n",
    "    # takes \"one step\" regardless of how many pieces of input it has to deal with\n",
    "    # one step for a list of 1000 items, one step for a list of 1000000000 items\n",
    "    \n",
    "# a linear algorithm - O(n)\n",
    "    # takes one step per piece of input\n",
    "    # list of 1000 items -> 1000 steps\n",
    "    # list of 1000000000 items -> 1000000000 steps"
   ]
  },
  {
   "cell_type": "code",
   "execution_count": null,
   "metadata": {},
   "outputs": [],
   "source": [
    "# asymptotic analysis focuses on analyzing our time/space complexity as our number of inputs scales toward infinity\n",
    "    # aka we only care about really large numbers of inputs (like a list of a million items)\n",
    "    # the benefit of this is that we can do some hand-wavy simplification\n",
    "    # any chance in our time complexity that is exponential is ignored\n",
    "        # we're following the principle that:\n",
    "            # infinity * infinity = inifinity^2\n",
    "            # but\n",
    "            # infinity + infinity = infinity*2 = infinity\n",
    "            \n",
    "# following this principle - just about every algorithm falls under one of the following time complexities\n",
    "# ordered from best to worst"
   ]
  },
  {
   "cell_type": "markdown",
   "metadata": {},
   "source": [
    "<table style=\"text-align:center;\" class=\"table table-bordered\">\n",
    "<tbody><tr>\n",
    "<td>constant</td>\n",
    "<td>−</td>\n",
    "<td>Ο(1)</td>\n",
    "</tr>\n",
    "<tr>\n",
    "<td>logarithmic</td>\n",
    "<td>−</td>\n",
    "<td>Ο(log n)</td>\n",
    "</tr>\n",
    "<tr>\n",
    "<td>linear</td>\n",
    "<td>−</td>\n",
    "<td>Ο(n)</td>\n",
    "</tr>\n",
    "<tr>\n",
    "<td>Linear Logarithmic</td>\n",
    "<td>−</td>\n",
    "<td>Ο(n log n)</td>\n",
    "</tr>\n",
    "<tr>\n",
    "<td>quadratic</td>\n",
    "<td>−</td>\n",
    "<td>Ο(n<sup>2</sup>)</td>\n",
    "</tr>\n",
    "<tr>\n",
    "<td>cubic</td>\n",
    "<td>−</td>\n",
    "<td>Ο(n<sup>3</sup>)</td>\n",
    "</tr>\n",
    "<tr>\n",
    "<td>polynomial</td>\n",
    "<td>−</td>\n",
    "<td>n<sup>Ο(1)</sup></td>\n",
    "</tr>\n",
    "<tr>\n",
    "<td>exponential</td>\n",
    "<td>−</td>\n",
    "<td>2<sup>Ο(n)</sup></td>\n",
    "</tr>\n",
    "</tbody></table>"
   ]
  },
  {
   "cell_type": "code",
   "execution_count": null,
   "metadata": {},
   "outputs": [],
   "source": [
    "# Big-O notation\n",
    "    # big-o notation is the most commonly used notation to denote time complexity\n",
    "    # it is actually one of three notations used each meaning a slightly different thing\n",
    "# Each algorithm may perform differently in different scenarios\n",
    "# So, we have a notation for the best-case, worst-case, and average-case performance of an algorithm\n",
    "# Sorting for example may take far fewer steps if the input list is nearly already sorted\n",
    "\n",
    "# Best-case\n",
    "    # Ω() - omega notation\n",
    "    # how many steps does this algorithm take in the best-case scenario\n",
    "    # sorted() -> Ω(n)\n",
    "    # Best-case is rarely discussed as we often care more about the worst-case performance of an algorithm\n",
    "    \n",
    "# Average\n",
    "    # Θ() - theta notation\n",
    "    # what is the average number of steps this algorithm takes\n",
    "    # sorted() -> Θ(nlogn)\n",
    "    \n",
    "# Worst\n",
    "    # O() - big-o notation\n",
    "    # what is the most possible number of steps this algorithm may take\n",
    "    # sorted() -> O(nlogn)\n",
    "    # worst-case is what is most commonly discussed/optimized"
   ]
  },
  {
   "cell_type": "code",
   "execution_count": 6,
   "metadata": {},
   "outputs": [
    {
     "name": "stdout",
     "output_type": "stream",
     "text": [
      "single for loop\n",
      "length of list: 10\n",
      "total steps: 10\n",
      "\n",
      "single for loop\n",
      "length of list: 12\n",
      "total steps: 12\n",
      "\n"
     ]
    }
   ],
   "source": [
    "# Another way we can think about asymptotic analysis:\n",
    "    # Our measure of time complexity is a measure of the number of additional computational steps\n",
    "    # for the NEXT piece of input added\n",
    "    # aka how many additional steps do we do if moving from n inputs to n+1 inputs\n",
    "    \n",
    "# Let's take that idea and examine the real-world impact of n -> n+1 inputs on the number of steps\n",
    "# in two separate for loops vs. a nested for loop\n",
    "\n",
    "# a for loop is a linear process - for each item in the iterable the loop takes one step\n",
    "# single for loop:\n",
    "nums = [1, 2, 3, 4, 5, 6, 7, 8, 9, 10]\n",
    "print('single for loop')\n",
    "print(f\"length of list: {len(nums)}\")\n",
    "\n",
    "steps=0\n",
    "for n in nums:\n",
    "    steps += 1\n",
    "print(f\"total steps: {steps}\\n\")\n",
    "\n",
    "nums = [1, 2, 3, 4, 5, 6, 7, 8, 9, 10, 11, 12]\n",
    "print('single for loop')\n",
    "print(f\"length of list: {len(nums)}\")\n",
    "\n",
    "steps=0\n",
    "for n in nums:\n",
    "    steps += 1\n",
    "print(f\"total steps: {steps}\\n\")\n",
    "\n",
    "# O(n) a single for loop has linear time complexity"
   ]
  },
  {
   "cell_type": "code",
   "execution_count": 12,
   "metadata": {},
   "outputs": [
    {
     "name": "stdout",
     "output_type": "stream",
     "text": [
      "two separate for loops\n",
      "length of list: 10\n",
      "total steps: 20\n",
      "\n",
      "two separate for loops\n",
      "length of list: 12\n",
      "total steps: 24\n",
      "\n",
      "two separate for loops\n",
      "length of list: 14\n",
      "total steps: 28\n",
      "\n"
     ]
    }
   ],
   "source": [
    "# two separate for loops is also considered a linear process\n",
    "\n",
    "nums = [1, 2, 3, 4, 5, 6, 7, 8, 9, 10]\n",
    "print('two separate for loops')\n",
    "print(f\"length of list: {len(nums)}\")\n",
    "\n",
    "steps=0\n",
    "for n in nums:\n",
    "    steps += 1\n",
    "for n in nums:\n",
    "    steps += 1\n",
    "print(f\"total steps: {steps}\\n\")\n",
    "\n",
    "# list of length 10 -> 20 steps\n",
    "\n",
    "nums = [1, 2, 3, 4, 5, 6, 7, 8, 9, 10, 11, 12]\n",
    "print('two separate for loops')\n",
    "print(f\"length of list: {len(nums)}\")\n",
    "\n",
    "steps=0\n",
    "for n in nums:\n",
    "    steps += 1\n",
    "for n in nums:\n",
    "    steps += 1\n",
    "print(f\"total steps: {steps}\\n\")\n",
    "\n",
    "\n",
    "nums = [1, 2, 3, 4, 5, 6, 7, 8, 9, 10, 11, 12, 13, 14]\n",
    "print('two separate for loops')\n",
    "print(f\"length of list: {len(nums)}\")\n",
    "\n",
    "steps=0\n",
    "for n in nums:\n",
    "    steps += 1\n",
    "for n in nums:\n",
    "    steps += 1\n",
    "print(f\"total steps: {steps}\\n\")\n",
    "\n",
    "# two separate for loops is still considered O(n) linear\n",
    "# this is due to our rules about exponential increases and simplification\n",
    "# n steps + n steps = 2n steps = O(n)\n",
    "\n",
    "# why are we allowed to do that?\n",
    "# look at the impact of each additional input\n",
    "# as we move from a list of 10 to a list of 12\n",
    "    # steps increases by 4\n",
    "# as we move from a list of 12 to a list of 14\n",
    "    # steps increases by 4\n",
    "# as we move from a list of 1200000000 to a list of 1200000002\n",
    "    # steps incrases by 4\n",
    "    \n",
    "# regardless of how many inputs we have the impact on the number of steps of the next piece of input is always the same\n",
    "# aka increasing in a linear manner"
   ]
  },
  {
   "cell_type": "code",
   "execution_count": 13,
   "metadata": {},
   "outputs": [
    {
     "name": "stdout",
     "output_type": "stream",
     "text": [
      "two separate for loops\n",
      "length of list: 10\n",
      "total steps: 100\n",
      "\n",
      "two separate for loops\n",
      "length of list: 12\n",
      "total steps: 144\n",
      "\n",
      "two separate for loops\n",
      "length of list: 14\n",
      "total steps: 196\n",
      "\n"
     ]
    }
   ],
   "source": [
    "# nested for loops are quadratic time complexity\n",
    "# O(n^2)\n",
    "\n",
    "nums = [1, 2, 3, 4, 5, 6, 7, 8, 9, 10]\n",
    "print('two separate for loops')\n",
    "print(f\"length of list: {len(nums)}\")\n",
    "\n",
    "steps=0\n",
    "for x in nums:\n",
    "    for y in nums:\n",
    "        steps += 1\n",
    "print(f\"total steps: {steps}\\n\")\n",
    "\n",
    "# list of length 10 -> 100 steps\n",
    "\n",
    "nums = [1, 2, 3, 4, 5, 6, 7, 8, 9, 10, 11, 12]\n",
    "print('two separate for loops')\n",
    "print(f\"length of list: {len(nums)}\")\n",
    "\n",
    "steps=0\n",
    "for x in nums:\n",
    "    for y in nums:\n",
    "        steps += 1\n",
    "print(f\"total steps: {steps}\\n\")\n",
    "\n",
    "\n",
    "nums = [1, 2, 3, 4, 5, 6, 7, 8, 9, 10, 11, 12, 13, 14]\n",
    "print('two separate for loops')\n",
    "print(f\"length of list: {len(nums)}\")\n",
    "\n",
    "steps=0\n",
    "for x in nums:\n",
    "    for y in nums:\n",
    "        steps += 1\n",
    "print(f\"total steps: {steps}\\n\")\n",
    "\n",
    "# look at the impact of each additional input\n",
    "# as we move from a list of 10 to a list of 12\n",
    "    # steps increases by 44\n",
    "# as we move from a list of 12 to a list of 14\n",
    "    # steps increases by 52\n",
    "# as we move from a list of 1200000000 to a list of 1200000002\n",
    "    # steps incrases by way more than 52\n",
    "    \n",
    "# the impact of each additional input increases as our total number of inputs rises"
   ]
  },
  {
   "cell_type": "markdown",
   "metadata": {},
   "source": [
    "## Arrays"
   ]
  },
  {
   "cell_type": "markdown",
   "metadata": {},
   "source": [
    "In python we benefit from the dynamic array which means the block of memory will expand as needed for the given input to the array. In traditional arrays (depending on the type of operating system) we will usually store our inputs in 4 or 8 consecutive blocks of memory. Below is a diagram of how that looks under the hood:\n",
    "\n",
    "<img src=\"http://www.mathcs.emory.edu/~cheung/Courses/170/Syllabus/09/FIGS/array02x.gif\" style=\"height:250px; width:350px;\">"
   ]
  },
  {
   "cell_type": "markdown",
   "metadata": {},
   "source": [
    "## Which in python looks like this:"
   ]
  },
  {
   "cell_type": "code",
   "execution_count": null,
   "metadata": {},
   "outputs": [],
   "source": []
  },
  {
   "cell_type": "markdown",
   "metadata": {},
   "source": [
    "### Let's take a look at some of the time and space analysis of arrays"
   ]
  },
  {
   "cell_type": "code",
   "execution_count": null,
   "metadata": {},
   "outputs": [],
   "source": []
  },
  {
   "cell_type": "markdown",
   "metadata": {},
   "source": [
    "## Stacks and Queues\n",
    "\n",
    "** Stacks ** as the name suggests is a data structure that allows for data to follow the Last In First Out priciple(LIFO). Think of a stack of pancakes for example. To get the first pancake you would  start with the top and go down.\n",
    "\n",
    "##### Searching through a stack will be Linear Time O(n) - Constant Space O(1)\n",
    "##### Selecting the last item will be done in Constant Time O(1) - Constant Space O(1)\n",
    "##### Adding to the stack should take Constant Time O(1) - Constant Space O(1)\n",
    "\n",
    "** Queues ** are similar but in this case follow the First In First Out principle(FIFO). Think of this as a line in a black friday sale. The first person camped out for the big screen tv is the first to get it.\n",
    "\n",
    "##### Searching through a queue will be Linear Time O(n) - Constant Space O(1)\n",
    "##### Selecting the first item will be done in Constant Time O(1) - Constant Space O(1)\n",
    "##### Adding to the queue should take Constant Time O(1) - Constant Space O(1)"
   ]
  },
  {
   "cell_type": "code",
   "execution_count": null,
   "metadata": {},
   "outputs": [],
   "source": []
  },
  {
   "cell_type": "markdown",
   "metadata": {},
   "source": [
    "## Linked List (Data Structure)\n",
    "\n",
    "A linked list is created by using the node class. We create a Node object and create another class to use this node object. We pass the appropriate values thorugh the node object to point the to the next data elements.\n",
    "\n",
    "There are some advantages and disadvantages with this data structure. **Advantages** Linked Lists can save memory because they can be flexibile with memory management which saves memory. **Disadvantages** Finding or adding to the list requires traversing the entire list."
   ]
  },
  {
   "cell_type": "code",
   "execution_count": null,
   "metadata": {},
   "outputs": [],
   "source": []
  }
 ],
 "metadata": {
  "kernelspec": {
   "display_name": "Python 3",
   "language": "python",
   "name": "python3"
  },
  "language_info": {
   "codemirror_mode": {
    "name": "ipython",
    "version": 3
   },
   "file_extension": ".py",
   "mimetype": "text/x-python",
   "name": "python",
   "nbconvert_exporter": "python",
   "pygments_lexer": "ipython3",
   "version": "3.8.8"
  }
 },
 "nbformat": 4,
 "nbformat_minor": 2
}

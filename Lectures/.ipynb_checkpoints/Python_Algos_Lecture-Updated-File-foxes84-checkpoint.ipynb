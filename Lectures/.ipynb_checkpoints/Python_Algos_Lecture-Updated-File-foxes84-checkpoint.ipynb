{
 "cells": [
  {
   "cell_type": "markdown",
   "metadata": {},
   "source": [
    "# Algorithms - Classic Sorting, Binary Search"
   ]
  },
  {
   "cell_type": "markdown",
   "metadata": {},
   "source": [
    "## Tasks Today:\n",
    " \n",
    "1) <b>In-Place Algorithms</b> <br>\n",
    " &nbsp;&nbsp;&nbsp;&nbsp; a) Syntax <br>\n",
    " &nbsp;&nbsp;&nbsp;&nbsp; a) Out of Place Algorithm <br>\n",
    " &nbsp;&nbsp;&nbsp;&nbsp; b) In-Class Exercise #1 <br>\n",
    "2) <b>Two Pointers</b> <br>\n",
    "3) <b>Linked Lists</b> <br>\n",
    "4) <b>Merge Sort</b> <br>\n",
    " &nbsp;&nbsp;&nbsp;&nbsp; a) Video on Algorithms <br>\n",
    " &nbsp;&nbsp;&nbsp;&nbsp; b) How it Works <br>\n",
    "5) <b>Exercises</b> <br>\n",
    " &nbsp;&nbsp;&nbsp;&nbsp; a) Exercise #1 - Reverse a List in Place Using an In-Place Algorithm <br>\n",
    " &nbsp;&nbsp;&nbsp;&nbsp; b) Exercise #2 - Find Distinct Words <br>\n",
    " &nbsp;&nbsp;&nbsp;&nbsp; c) Exercise #3 - Write a program to implement a Linear Search Algorithm. <br>"
   ]
  },
  {
   "cell_type": "markdown",
   "metadata": {},
   "source": [
    "## In-Place Algorithms"
   ]
  },
  {
   "cell_type": "markdown",
   "metadata": {},
   "source": [
    "##### Main difference: is the original data structure being modified?\n",
    "##### An in-place algorithm modifies the original data structure"
   ]
  },
  {
   "cell_type": "markdown",
   "metadata": {},
   "source": [
    "#### Syntax"
   ]
  },
  {
   "cell_type": "code",
   "execution_count": 11,
   "metadata": {},
   "outputs": [
    {
     "name": "stdout",
     "output_type": "stream",
     "text": [
      "before swap: ['Fennec Fox', 'Giant River Otter', 'Siberian Tiger', 'Tasmanian Devil', 'Some Dog Named Frank']\n",
      "after swap: ['Some Dog Named Frank', 'Giant River Otter', 'Siberian Tiger', 'Fennec Fox', 'Tasmanian Devil']\n"
     ]
    }
   ],
   "source": [
    "# switching the places of values within an ordered data structure\n",
    "# is a swapping algorithm\n",
    "# it could be as simple as swapping two indexes:\n",
    "    # var[i], var[i+1] = var[i+1], var[i]\n",
    "    # multiple variable assignment\n",
    "\n",
    "# using the concept of multiple variable assignment\n",
    "# we can create a simple in-place swapping algorithm\n",
    "\n",
    "def swap(alist, x, y, z):\n",
    "    \"\"\"\n",
    "    accepts a list and three index numbers\n",
    "    swaps the order of the indexes in the list\n",
    "    \"\"\"\n",
    "    alist[x], alist[y], alist[z] = alist[z], alist[x], alist[y]\n",
    "    \n",
    "mylist = ['Fennec Fox', 'Giant River Otter', 'Siberian Tiger', 'Tasmanian Devil', 'Some Dog Named Frank']\n",
    "print(f'before swap: {mylist}')\n",
    "swap(mylist, 0, 3, -1)\n",
    "print(f'after swap: {mylist}')\n",
    "\n",
    "# notice there is no variable redefinition - im still dealing with the same original mylist\n",
    "    # and it has been modified\n",
    "# another thing to note is there is no return value for this function\n",
    "    # an in-place algorithm modifies the original\n",
    "    # we already know where to find/reference/access the original\n",
    "    # therefore we need no return value"
   ]
  },
  {
   "cell_type": "markdown",
   "metadata": {},
   "source": [
    "#### Out of Place Algorithm"
   ]
  },
  {
   "cell_type": "markdown",
   "metadata": {},
   "source": [
    "###### An out of place algorithm is characterized by the creation of a new data structure/collection/value\n",
    "###### And maintains data integrity aka does not modify the original values"
   ]
  },
  {
   "cell_type": "code",
   "execution_count": 14,
   "metadata": {},
   "outputs": [
    {
     "name": "stdout",
     "output_type": "stream",
     "text": [
      "['Some Dog Named Frank', 'Giant River Otter', 'Siberian Tiger', 'Fennec Fox', 'Tasmanian Devil']\n",
      "['Some Dog Named Frank', 'Giant River Otter', 'Siberian Tiger', 'Fennec Fox', 'Tasmanian Devil']\n",
      "\n",
      "\n",
      "original before reverse: ['Some Dog Named Frank', 'Giant River Otter', 'Siberian Tiger', 'Fennec Fox', 'Tasmanian Devil']\n",
      "original after reverse: ['Some Dog Named Frank', 'Giant River Otter', 'Siberian Tiger', 'Fennec Fox', 'Tasmanian Devil']\n",
      "reversed copy: ['Tasmanian Devil', 'Fennec Fox', 'Siberian Tiger', 'Giant River Otter', 'Some Dog Named Frank']\n"
     ]
    }
   ],
   "source": [
    "# reversing a list completely using list slicing\n",
    "# a simple out of place algorithm\n",
    "print(mylist)\n",
    "mylist[::-1] # reverse the list\n",
    "print(mylist)\n",
    "# notice that there is no change above\n",
    "    # reversing the list using list slicing is an out of place algorithm\n",
    "    # it creates a new list in reverse order\n",
    "    # it does not modify the original\n",
    "    # so if we want to use that reversed version going forward, we need to assign it a variable\n",
    "print(f'\\n\\noriginal before reverse: {mylist}')\n",
    "reversedcopy = mylist[::-1]\n",
    "print(f'original after reverse: {mylist}')\n",
    "print(f'reversed copy: {reversedcopy}')\n",
    "\n",
    "# an out of place algorithm either creates a modified copy or an entirely new data structure\n",
    "# out of place algorithms are often easily identifiable by the necessity of variable assignment\n",
    "    # and return statements\n",
    "    # an out of place algorithm that is a function will always need a return statement!"
   ]
  },
  {
   "cell_type": "markdown",
   "metadata": {},
   "source": [
    "##### Stereotypical python in-place vs. out of place example: sorting\n",
    "##### Python has two sorting functions - sorted() and .sort()"
   ]
  },
  {
   "cell_type": "code",
   "execution_count": 15,
   "metadata": {},
   "outputs": [
    {
     "name": "stdout",
     "output_type": "stream",
     "text": [
      "['Some Dog Named Frank', 'Giant River Otter', 'Siberian Tiger', 'Fennec Fox', 'Tasmanian Devil']\n",
      "['Fennec Fox', 'Giant River Otter', 'Siberian Tiger', 'Some Dog Named Frank', 'Tasmanian Devil']\n",
      "['Some Dog Named Frank', 'Giant River Otter', 'Siberian Tiger', 'Fennec Fox', 'Tasmanian Devil']\n"
     ]
    }
   ],
   "source": [
    "# sorted is out of place\n",
    "print(mylist)\n",
    "print(sorted(mylist)) # sorted is returning a sorted copy of the list and not modifying the original\n",
    "print(mylist)"
   ]
  },
  {
   "cell_type": "code",
   "execution_count": 16,
   "metadata": {},
   "outputs": [
    {
     "name": "stdout",
     "output_type": "stream",
     "text": [
      "['Some Dog Named Frank', 'Giant River Otter', 'Siberian Tiger', 'Fennec Fox', 'Tasmanian Devil']\n",
      "None\n",
      "['Fennec Fox', 'Giant River Otter', 'Siberian Tiger', 'Some Dog Named Frank', 'Tasmanian Devil']\n"
     ]
    }
   ],
   "source": [
    "# .sort() is in place\n",
    "print(mylist)\n",
    "print(mylist.sort()) # .sort() returns None and modifies the original list\n",
    "print(mylist)"
   ]
  },
  {
   "cell_type": "markdown",
   "metadata": {},
   "source": [
    "#### In-Class Exercise #1 <br>\n",
    "<p>Write a function that takes in one argument (a list) and reverses that list in-place using multiple variable assignment (hint: you will likely also need a loop).</p>"
   ]
  },
  {
   "cell_type": "code",
   "execution_count": 24,
   "metadata": {},
   "outputs": [
    {
     "name": "stdout",
     "output_type": "stream",
     "text": [
      "[10, 4, 3, 8, 4, 2, 6]\n",
      "[6, 2, 4, 8, 3, 4, 10]\n"
     ]
    }
   ],
   "source": [
    "l_1 = [10, 4, 3, 8, 4, 2, 6]\n",
    "\n",
    "def ipReverse(arr):\n",
    "    for i in range(len(arr)//2):\n",
    "        arr[i], arr[-(i+1)] = arr[-(i+1)], arr[i]\n",
    "        \n",
    "\n",
    "print(l_1)\n",
    "ipReverse(l_1)\n",
    "print(l_1) # this should now be the reversed value"
   ]
  },
  {
   "cell_type": "markdown",
   "metadata": {},
   "source": [
    "## What is a pointer?"
   ]
  },
  {
   "cell_type": "code",
   "execution_count": 29,
   "metadata": {},
   "outputs": [
    {
     "name": "stdout",
     "output_type": "stream",
     "text": [
      "[10, 4, 3, 8, 4, 2, 6]\n",
      "[10, 2, 4, 8, 3, 4, 6]\n"
     ]
    }
   ],
   "source": [
    "# just some variable that you set up to keep track of index numbers as you loop/perform a process\n",
    "# its a term used to refer to an integer variable that is used in a specific manner\n",
    "\n",
    "# let's say I wanted to take a pointer approach with the above ipReverse algorithm\n",
    "# rather than our index number i being controlled by a for loop\n",
    "# we'll control it ourselves\n",
    "# the advantage of a pointer is that you have more control over the iteration and change in the pointer\n",
    "    # than a non-pointer approach\n",
    "    # pointers are most commonly used with a while loop\n",
    "# often times, pointer approaches can be more efficient (better time complexity) than non-pointer approaches\n",
    "    # (not in this case though)\n",
    "\n",
    "l_1 = [10, 4, 3, 8, 4, 2, 6]\n",
    "\n",
    "# advantage of a pointer -> we control where it starts!\n",
    "    # what if i gave the constraint to the above question (ipReverse)\n",
    "    # that I wanted all but the first and last values swapped\n",
    "    # aka expected output: [10, 2, 4, 8, 3, 4, 6]\n",
    "    # set the pointer to start at index#1 instead of 0 :)\n",
    "\n",
    "def ipReverse(arr):\n",
    "    i = 1 # this is just an integer variable but i'm setting it up to represent an index number (therefore it is a pointer)\n",
    "    while i < len(arr)//2:\n",
    "        arr[i], arr[-(i+1)] = arr[-(i+1)], arr[i]\n",
    "        i += 1\n",
    "\n",
    "print(l_1)\n",
    "ipReverse(l_1)\n",
    "print(l_1) # this should now be the reversed value"
   ]
  },
  {
   "cell_type": "markdown",
   "metadata": {},
   "source": [
    "## Two Pointers"
   ]
  },
  {
   "cell_type": "markdown",
   "metadata": {},
   "source": [
    "#### Syntax"
   ]
  },
  {
   "cell_type": "code",
   "execution_count": 30,
   "metadata": {},
   "outputs": [
    {
     "name": "stdout",
     "output_type": "stream",
     "text": [
      "[10, 4, 3, 8, 4, 2, 6]\n",
      "[6, 2, 4, 8, 3, 4, 10]\n"
     ]
    }
   ],
   "source": [
    "# same concept as a single pointer\n",
    "# but can be advantageous in making code more readable\n",
    "# or can be necessary for the solution of some problems\n",
    "\n",
    "# how might we be able to use a two pointer setup to make the code for ipReverse more readable\n",
    "# have one pointer for the front of the list / left side\n",
    "# one pointer for the back of the list / right side\n",
    "# we're essentially just performing a series of swaps between the left side and right side of the list\n",
    "\n",
    "# what are the starting values of our pointers\n",
    "    # first index in the list\n",
    "    # last index in the list\n",
    "# how is our while loop defined\n",
    "    # while the pointers havent matched/crossed\n",
    "        # easier to answer once we set up initial values\n",
    "# how are our pointers incremented (changed)\n",
    "    # changed by 1 each step of the loop after swap\n",
    "\n",
    "def twopointerIPReverse(arr):\n",
    "    # create pointers\n",
    "    left = 0\n",
    "    right = len(arr) - 1\n",
    "    # define while loop\n",
    "    while left < right:\n",
    "        # do swap\n",
    "        arr[left], arr[right] = arr[right], arr[left]\n",
    "        # increment our pointers\n",
    "        left += 1\n",
    "        right -= 1\n",
    "        \n",
    "l_1 = [10, 4, 3, 8, 4, 2, 6]\n",
    "print(l_1)\n",
    "twopointerIPReverse(l_1)\n",
    "print(l_1) # this should now be the reversed value"
   ]
  },
  {
   "cell_type": "markdown",
   "metadata": {},
   "source": [
    "#### Video of Algorithms <br>\n",
    "<p>Watch the video about algorithms.</p>\n",
    "\n",
    "https://www.youtube.com/watch?v=Q9HjeFD62Uk\n",
    "\n",
    "https://www.youtube.com/watch?v=kPRA0W1kECg\n",
    "\n",
    "https://www.youtube.com/watch?v=ZZuD6iUe3Pc"
   ]
  },
  {
   "cell_type": "markdown",
   "metadata": {},
   "source": [
    "# Sorting Algorithms"
   ]
  },
  {
   "cell_type": "markdown",
   "metadata": {},
   "source": [
    "#### Bubble Sort\n",
    "\n",
    "Worst Case: O(n^2) Time - O(1) Space"
   ]
  },
  {
   "cell_type": "code",
   "execution_count": null,
   "metadata": {},
   "outputs": [],
   "source": []
  },
  {
   "cell_type": "markdown",
   "metadata": {},
   "source": [
    "##### Insertion Sort\n",
    "\n",
    "Worst Case: O(n^2) time - O(1)space"
   ]
  },
  {
   "cell_type": "code",
   "execution_count": null,
   "metadata": {},
   "outputs": [],
   "source": []
  },
  {
   "cell_type": "markdown",
   "metadata": {},
   "source": [
    "## Merge Sort"
   ]
  },
  {
   "cell_type": "markdown",
   "metadata": {},
   "source": [
    "#### How it Works"
   ]
  },
  {
   "cell_type": "code",
   "execution_count": null,
   "metadata": {},
   "outputs": [],
   "source": []
  },
  {
   "cell_type": "markdown",
   "metadata": {},
   "source": [
    "# Binary Search\n",
    "\n",
    "The Binary Search algorithm works by finding the number in the middle of a given array and comparing it to the target. Given that the array is sorted\n",
    "\n",
    "* The worst case run time for this algorithm is `O(log(n))`"
   ]
  },
  {
   "cell_type": "code",
   "execution_count": null,
   "metadata": {},
   "outputs": [],
   "source": []
  },
  {
   "cell_type": "markdown",
   "metadata": {},
   "source": [
    "# Exercises"
   ]
  },
  {
   "cell_type": "markdown",
   "metadata": {},
   "source": [
    "### Exercise #1 <br>\n",
    "<p>Reverse the list below in-place using an in-place algorithm.<br>For extra credit: Reverse the strings at the same time.</p>"
   ]
  },
  {
   "cell_type": "code",
   "execution_count": null,
   "metadata": {},
   "outputs": [],
   "source": [
    "words = ['this' , 'is', 'a', 'sentence', '.']\n"
   ]
  },
  {
   "cell_type": "markdown",
   "metadata": {},
   "source": [
    "### Exercise #2 <br>\n",
    "<p>Create a function that counts how many distinct words are in the string below, then outputs a dictionary with the words as the key and the value as the amount of times that word appears in the string.<br>Should output:<br>{'a': 5,<br>\n",
    " 'abstract': 1,<br>\n",
    " 'an': 3,<br>\n",
    " 'array': 2, ... etc...</p>"
   ]
  },
  {
   "cell_type": "code",
   "execution_count": null,
   "metadata": {},
   "outputs": [],
   "source": [
    "a_text = 'In computing, a hash table hash map is a data structure which implements an associative array abstract data type, a structure that can map keys to values. A hash table uses a hash function to compute an index into an array of buckets or slots from which the desired value can be found'\n",
    "\n"
   ]
  },
  {
   "cell_type": "markdown",
   "metadata": {},
   "source": [
    "## Exercise #3\n",
    "\n",
    "Write a program to implement a Linear Search Algorithm. Also in a comment, write the Time Complexity of the following algorithm.\n",
    "\n",
    "#### Hint: Linear Searching will require searching a list for a given number. "
   ]
  },
  {
   "cell_type": "code",
   "execution_count": null,
   "metadata": {},
   "outputs": [],
   "source": []
  }
 ],
 "metadata": {
  "kernelspec": {
   "display_name": "Python 3",
   "language": "python",
   "name": "python3"
  },
  "language_info": {
   "codemirror_mode": {
    "name": "ipython",
    "version": 3
   },
   "file_extension": ".py",
   "mimetype": "text/x-python",
   "name": "python",
   "nbconvert_exporter": "python",
   "pygments_lexer": "ipython3",
   "version": "3.8.8"
  }
 },
 "nbformat": 4,
 "nbformat_minor": 2
}

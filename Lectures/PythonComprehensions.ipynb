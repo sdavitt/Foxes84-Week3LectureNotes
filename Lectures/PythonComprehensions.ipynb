{
 "cells": [
  {
   "cell_type": "code",
   "execution_count": 4,
   "id": "78f31354",
   "metadata": {},
   "outputs": [
    {
     "name": "stdout",
     "output_type": "stream",
     "text": [
      "List comprehension <class 'list'>:\n",
      "fennec fox -> ['F', 'E', 'N', 'N', 'E', 'C', ' ', 'F', 'O', 'X']\n",
      "\n"
     ]
    }
   ],
   "source": [
    "# we already know about list comprehensions:\n",
    "iterable = 'fennec fox'\n",
    "\n",
    "# list_comp = [transformation for variable in iterable <optional conditional>]\n",
    "listofletters = [v.upper() for v in iterable]\n",
    "print(f'List comprehension {type(listofletters)}:\\n{iterable} -> {listofletters}\\n')"
   ]
  },
  {
   "cell_type": "code",
   "execution_count": 10,
   "id": "5148ce91",
   "metadata": {},
   "outputs": [
    {
     "name": "stdout",
     "output_type": "stream",
     "text": [
      "List comprehension <class 'generator'>:\n",
      "fennec fox -> <generator object <genexpr> at 0x000002A99C45BB30>\n",
      "\n",
      "F\n",
      "E\n",
      "N\n",
      "N\n",
      "E\n",
      "C\n",
      " \n",
      "F\n",
      "O\n",
      "X\n"
     ]
    }
   ],
   "source": [
    "# tuple comprehension does not exist! a list comprehension syntax with parenthesis is actually creating a generator object\n",
    "# what I assumed was a tuple comprehension is in fact creating a generator!\n",
    "generatorofletters = (v.upper() for v in iterable)\n",
    "print(f'List comprehension {type(generatorofletters)}:\\n{iterable} -> {generatorofletters}\\n')\n",
    "for x in generatorofletters:\n",
    "    print(x)"
   ]
  },
  {
   "cell_type": "code",
   "execution_count": 5,
   "id": "d6136d91",
   "metadata": {},
   "outputs": [
    {
     "name": "stdout",
     "output_type": "stream",
     "text": [
      "Set comprehension <class 'set'>:\n",
      "fennec fox -> {' ', 'F', 'E', 'X', 'N', 'C', 'O'}\n",
      "\n"
     ]
    }
   ],
   "source": [
    "# set comprehensions exist\n",
    "# sets are unordered collections of individual values\n",
    "# set comprehension is essentially the exact same syntax as a list comprehension\n",
    "# except {} instead of square brackets\n",
    "\n",
    "# set_comp = {transformation for variable in iterable <optional conditional>}\n",
    "setofletters = {v.upper() for v in iterable}\n",
    "print(f'Set comprehension {type(setofletters)}:\\n{iterable} -> {setofletters}\\n')"
   ]
  },
  {
   "cell_type": "code",
   "execution_count": 7,
   "id": "d68b0754",
   "metadata": {},
   "outputs": [
    {
     "name": "stdout",
     "output_type": "stream",
     "text": [
      "Set comprehension <class 'dict'>:\n",
      "fennec fox -> {0: 'F', 1: 'E', 2: 'N', 3: 'N', 4: 'E', 5: 'C', 6: ' ', 7: 'F', 8: 'O', 9: 'X'}\n",
      "\n"
     ]
    }
   ],
   "source": [
    "# dictionary comprehensions\n",
    "# dictionaries are collections of key:value pairs\n",
    "# dictionary comprehension syntax requires to not only figure out a new value to include but also what the new key will be\n",
    "\n",
    "# dict_comp = {key_transformation: value_transformation for variable in iterable <optional conditional>}\n",
    "# I want the key to be the index number and value to be the letter from the string\n",
    "dictofletters = {i: iterable[i].upper() for i in range(len(iterable))}\n",
    "print(f'Set comprehension {type(dictofletters)}:\\n{iterable} -> {dictofletters}\\n')"
   ]
  },
  {
   "cell_type": "code",
   "execution_count": null,
   "id": "96997a12",
   "metadata": {},
   "outputs": [],
   "source": []
  }
 ],
 "metadata": {
  "kernelspec": {
   "display_name": "Python 3",
   "language": "python",
   "name": "python3"
  },
  "language_info": {
   "codemirror_mode": {
    "name": "ipython",
    "version": 3
   },
   "file_extension": ".py",
   "mimetype": "text/x-python",
   "name": "python",
   "nbconvert_exporter": "python",
   "pygments_lexer": "ipython3",
   "version": "3.8.8"
  }
 },
 "nbformat": 4,
 "nbformat_minor": 5
}

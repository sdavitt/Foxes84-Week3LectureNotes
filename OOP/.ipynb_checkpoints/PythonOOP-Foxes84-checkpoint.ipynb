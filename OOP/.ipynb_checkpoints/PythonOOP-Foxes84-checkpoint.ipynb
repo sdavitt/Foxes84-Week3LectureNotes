{
 "cells": [
  {
   "cell_type": "markdown",
   "metadata": {},
   "source": [
    "# Object-Oriented-Programming (OOP)"
   ]
  },
  {
   "cell_type": "code",
   "execution_count": null,
   "metadata": {},
   "outputs": [],
   "source": [
    "# Before we get into lecture today - a review of scope\n",
    "# Variable scope - a variable's accessibility/area of availability aka scope is dependent on where the variable is defined"
   ]
  },
  {
   "cell_type": "code",
   "execution_count": 8,
   "metadata": {},
   "outputs": [
    {
     "ename": "NameError",
     "evalue": "name 'locallyscopedvariable' is not defined",
     "output_type": "error",
     "traceback": [
      "\u001b[1;31m---------------------------------------------------------------------------\u001b[0m",
      "\u001b[1;31mNameError\u001b[0m                                 Traceback (most recent call last)",
      "\u001b[1;32m<ipython-input-8-03641a293591>\u001b[0m in \u001b[0;36m<module>\u001b[1;34m\u001b[0m\n\u001b[0;32m      5\u001b[0m \u001b[1;33m\u001b[0m\u001b[0m\n\u001b[0;32m      6\u001b[0m \u001b[0maFunction\u001b[0m\u001b[1;33m(\u001b[0m\u001b[1;33m)\u001b[0m\u001b[1;33m\u001b[0m\u001b[1;33m\u001b[0m\u001b[0m\n\u001b[1;32m----> 7\u001b[1;33m \u001b[0mprint\u001b[0m\u001b[1;33m(\u001b[0m\u001b[0mlocallyscopedvariable\u001b[0m\u001b[1;33m)\u001b[0m \u001b[1;31m# outside of the aFunction function, locallyscopedvariable doesn't exist\u001b[0m\u001b[1;33m\u001b[0m\u001b[1;33m\u001b[0m\u001b[0m\n\u001b[0m\u001b[0;32m      8\u001b[0m \u001b[1;31m# the variable name never leaves the function - if the variable is returned, only the value exits the function\u001b[0m\u001b[1;33m\u001b[0m\u001b[1;33m\u001b[0m\u001b[1;33m\u001b[0m\u001b[0m\n",
      "\u001b[1;31mNameError\u001b[0m: name 'locallyscopedvariable' is not defined"
     ]
    }
   ],
   "source": [
    "# inside of a function - local scope to that function\n",
    "def aFunction():\n",
    "    locallyscopedvariable = 'something'\n",
    "    return locallyscopedvariable\n",
    "    \n",
    "aFunction()\n",
    "print(locallyscopedvariable) # outside of the aFunction function, locallyscopedvariable doesn't exist\n",
    "# the variable name never leaves the function - if the variable is returned, only the value exits the function"
   ]
  },
  {
   "cell_type": "code",
   "execution_count": 5,
   "metadata": {},
   "outputs": [
    {
     "name": "stdout",
     "output_type": "stream",
     "text": [
      "3\n",
      "3\n"
     ]
    }
   ],
   "source": [
    "# global scope\n",
    "x = 3\n",
    "# I can access x from anywhere - it is not in a box, everyone can see it\n",
    "print(x)\n",
    "\n",
    "def otherFunction():\n",
    "    print(x)\n",
    "\n",
    "otherFunction()"
   ]
  },
  {
   "cell_type": "code",
   "execution_count": 10,
   "metadata": {},
   "outputs": [
    {
     "name": "stdout",
     "output_type": "stream",
     "text": [
      "<class 'list'>\n"
     ]
    }
   ],
   "source": [
    "print(type(['a']))\n",
    "\n",
    "# class vs. object?\n",
    "# all objects are classes\n",
    "# not all classes are objects\n",
    "# an object is a class with attributes\n",
    "# a class can be not an object - aka a class that is just a collection of methods (functions beloging to a class)"
   ]
  },
  {
   "cell_type": "markdown",
   "metadata": {},
   "source": [
    "## Tasks Today:\n",
    "\n",
    "   \n",
    "\n",
    "1) <b>Creating a Class (Initializing/Declaring)</b> <br>\n",
    "2) <b>Using a Class (Instantiating)</b> <br>\n",
    " &nbsp;&nbsp;&nbsp;&nbsp; a) Creating One Instance <br>\n",
    " &nbsp;&nbsp;&nbsp;&nbsp; b) Creating Multiple Instances <br>\n",
    " &nbsp;&nbsp;&nbsp;&nbsp; c) In-Class Exercise #1 - Create a Class 'Car' and instantiate three different makes of cars <br>\n",
    "3) <b>The \\__init\\__() Method</b> <br>\n",
    " &nbsp;&nbsp;&nbsp;&nbsp; a) The 'self' Attribute <br>\n",
    "4) <b>Class Attributes</b> <br>\n",
    " &nbsp;&nbsp;&nbsp;&nbsp; a) Initializing Attributes <br>\n",
    " &nbsp;&nbsp;&nbsp;&nbsp; b) Setting an Attribute Outside of the \\__init\\__() Method <br>\n",
    " &nbsp;&nbsp;&nbsp;&nbsp; c) Setting Defaults for Attributes <br>\n",
    " &nbsp;&nbsp;&nbsp;&nbsp; d) Accessing Class Attributes <br>\n",
    " &nbsp;&nbsp;&nbsp;&nbsp; e) Changing Class Attributes <br>\n",
    " &nbsp;&nbsp;&nbsp;&nbsp; f) In-Class Exercise #2 - Add a color and wheels attribute to your 'Car' class <br>\n",
    "5) <b>Class Methods</b> <br>\n",
    " &nbsp;&nbsp;&nbsp;&nbsp; a) Creating <br>\n",
    " &nbsp;&nbsp;&nbsp;&nbsp; b) Calling <br>\n",
    " &nbsp;&nbsp;&nbsp;&nbsp; c) Modifying an Attribute's Value Through a Method <br>\n",
    " &nbsp;&nbsp;&nbsp;&nbsp; d) Incrementing an Attribute's Value Through a Method <br>\n",
    " &nbsp;&nbsp;&nbsp;&nbsp; e) In-Class Exercise #3 - Add a method that prints the cars color and wheel number, then call them <br>\n",
    "6) <b>Inheritance</b> <br>\n",
    " &nbsp;&nbsp;&nbsp;&nbsp; a) Syntax for Inheriting from a Parent Class <br>\n",
    " &nbsp;&nbsp;&nbsp;&nbsp; b) The \\__init\\__() Method for a Child Class (super()) <br>\n",
    " &nbsp;&nbsp;&nbsp;&nbsp; c) Defining Attributes and Methods for the Child Class <br>\n",
    " &nbsp;&nbsp;&nbsp;&nbsp; d) Method Overriding <br>\n",
    " &nbsp;&nbsp;&nbsp;&nbsp; e) In-Class Exercise #4 - Create a class 'Ford' that inherits from 'Car' class and initialize it as a Blue Ford Explorer with 4 wheels using the super() method <br>\n",
    "7) <b>Classes as Attributes</b> <br>\n",
    "8) <b>Exercises</b> <br>\n",
    " &nbsp;&nbsp;&nbsp;&nbsp; a) Exercise #1 - Turn the shopping cart program from yesterday into an object-oriented program <br>"
   ]
  },
  {
   "cell_type": "markdown",
   "metadata": {},
   "source": [
    "## Creating a Class (Initializing/Declaring)\n",
    "<p>When creating a class, function, or even a variable you are initializing that object. Initializing and Declaring occur at the same time in Python, whereas in lower level languages you have to declare an object before initializing it. This is the first step in the process of using a class.</p>"
   ]
  },
  {
   "cell_type": "code",
   "execution_count": 11,
   "metadata": {},
   "outputs": [
    {
     "name": "stdout",
     "output_type": "stream",
     "text": [
      "<class '__main__.Animal'>\n"
     ]
    }
   ],
   "source": [
    "# class Name: first letter of the class name should be capitalized\n",
    "class Animal:\n",
    "    species = 'Fennec Fox'\n",
    "    name = 'Dave'\n",
    "    habitat = 'desert'\n",
    "    \n",
    "print(Animal)\n",
    "# just like a function definition -> a class definition/declaration/initialization does not actively do anything\n",
    "# it is just a blueprint, a plan for the characteristics and processes of that class"
   ]
  },
  {
   "cell_type": "markdown",
   "metadata": {},
   "source": [
    "## Using a Class (Instantiating)\n",
    "<p>The process of creating a class is called <i>Instantiating</i>. Each time you create a variable of that type of class, it is referred to as an <i>Instance</i> of that class. This is the second step in the process of using a class.</p>"
   ]
  },
  {
   "cell_type": "markdown",
   "metadata": {},
   "source": [
    "##### Creating One Instance"
   ]
  },
  {
   "cell_type": "code",
   "execution_count": 13,
   "metadata": {},
   "outputs": [
    {
     "name": "stdout",
     "output_type": "stream",
     "text": [
      "<__main__.Animal object at 0x00000182ABE63DC0> <class '__main__.Animal'>\n",
      "Dave\n"
     ]
    }
   ],
   "source": [
    "# var = ClassName()\n",
    "fox1 = Animal()\n",
    "print(fox1, type(fox1))\n",
    "print(fox1.name) \n",
    "# dot notation to access class attributes\n",
    "# instanceName.attribute"
   ]
  },
  {
   "cell_type": "markdown",
   "metadata": {},
   "source": [
    "##### Creating Multiple Instances"
   ]
  },
  {
   "cell_type": "code",
   "execution_count": 18,
   "metadata": {},
   "outputs": [
    {
     "name": "stdout",
     "output_type": "stream",
     "text": [
      "Dave <__main__.Animal object at 0x00000182ABE63DC0> <class '__main__.Animal'>\n",
      "Doug desert <__main__.Animal object at 0x00000182ABF424C0> <class '__main__.Animal'>\n",
      "Davitt Fennec Fox <__main__.Animal object at 0x00000182ABF42E50> <class '__main__.Animal'>\n",
      "Dimitry Fennec Fox <__main__.Animal object at 0x00000182ABE63970> <class '__main__.Animal'>\n"
     ]
    }
   ],
   "source": [
    "fox2 = Animal()\n",
    "fox3 = Animal()\n",
    "fox4 = Animal()\n",
    "print(fox1.name, fox1, type(fox1))\n",
    "\n",
    "# I can redefine the attributes of any instance of my class\n",
    "fox2.name = 'Doug'\n",
    "fox3.name = 'Davitt'\n",
    "fox4.name = 'Dimitry'\n",
    "\n",
    "print(fox2.name, fox2.habitat, fox2, type(fox2))\n",
    "print(fox3.name, fox3.species, fox3, type(fox3))\n",
    "print(fox4.name, fox4.species, fox4, type(fox4))"
   ]
  },
  {
   "cell_type": "markdown",
   "metadata": {},
   "source": [
    "##### In-Class Exercise #1 - Create a Class 'Car' and Instantiate three different makes of cars"
   ]
  },
  {
   "cell_type": "code",
   "execution_count": 23,
   "metadata": {},
   "outputs": [
    {
     "name": "stdout",
     "output_type": "stream",
     "text": [
      "Ferrari\n",
      "<__main__.Car object at 0x00000182ABE63310> Ferrari\n",
      "<__main__.Car object at 0x00000182ABE63E20> Mercedes\n",
      "<__main__.Car object at 0x00000182ABE63F40> Red Bull\n"
     ]
    }
   ],
   "source": [
    "# class declaration\n",
    "class Car:\n",
    "    year = 2022\n",
    "    make = 'Ferrari'\n",
    "    model = 'SF-75'\n",
    "\n",
    "# class instantiation\n",
    "car1 = Car()\n",
    "car2 = Car()\n",
    "car3 = Car()\n",
    "print(car3.make)\n",
    "\n",
    "# attribute modification\n",
    "car2.make = 'Mercedes'\n",
    "car2.model = 'W13'\n",
    "car3.make = 'Red Bull'\n",
    "car3.model = 'RB18'\n",
    "\n",
    "print(car1, car1.make)\n",
    "print(car2, car2.make)\n",
    "print(car3, car3.make)"
   ]
  },
  {
   "cell_type": "markdown",
   "metadata": {},
   "source": [
    "## The \\__init\\__() Method <br>\n",
    "<p>This method is used in almost every created class, and called only once upon the creation of the class instance. This method will initialize all variables needed for the object.</p>"
   ]
  },
  {
   "cell_type": "code",
   "execution_count": 28,
   "metadata": {},
   "outputs": [
    {
     "name": "stdout",
     "output_type": "stream",
     "text": [
      "['a']\n",
      "['a']\n",
      "['a', 'b']\n",
      "['a', 'b']\n",
      "\n",
      "proper use of self and __init__\n",
      "['a']\n",
      "['a']\n",
      "['a']\n",
      "['a', 'b']\n"
     ]
    }
   ],
   "source": [
    "# bad practice code without init method:\n",
    "class BadAnimal:\n",
    "    species = 'Fennec Fox'\n",
    "    name = 'Dave'\n",
    "    habitat = 'desert'\n",
    "    test = ['a']\n",
    "    \n",
    "badfox1 = BadAnimal()\n",
    "badfox2 = BadAnimal()\n",
    "print(badfox1.test)\n",
    "print(badfox2.test)\n",
    "badfox2.test.append('b') # when we modify just badfox2's test attribute, both foxes test attributes are modified\n",
    "print(badfox1.test)\n",
    "print(badfox2.test)\n",
    "# converted to good practice code with the init method:\n",
    "\n",
    "class Animal:\n",
    "    # the init method must always accept the self parameter first\n",
    "    def __init__(self):\n",
    "        self.species = 'Fennec Fox'\n",
    "        self.name = 'Dave'\n",
    "        self.habitat = 'desert'\n",
    "        self.test = ['a']\n",
    "    \n",
    "fox1 = Animal()\n",
    "fox2 = Animal()\n",
    "\n",
    "print('\\nproper use of self and __init__')\n",
    "\n",
    "print(fox1.test)\n",
    "print(fox2.test)\n",
    "fox2.test.append('b')\n",
    "print(fox1.test)\n",
    "print(fox2.test)"
   ]
  },
  {
   "cell_type": "code",
   "execution_count": 32,
   "metadata": {},
   "outputs": [
    {
     "name": "stdout",
     "output_type": "stream",
     "text": [
      "easily see all attributes of each instance\n",
      "{'species': 'Fennec Fox', 'name': 'Dave', 'habitat': 'desert', 'test': ['a']}\n",
      "{'species': 'Arctic Fox', 'name': 'Larry', 'habitat': 'tundra', 'test': ['a']}\n"
     ]
    }
   ],
   "source": [
    "# next step - using the __init__ method to allow for attribute value assignment when an instance is created\n",
    "class Animal:\n",
    "    # the init method must always accept the self parameter first\n",
    "    # other parameters for the init method allow me to pass attribute values in\n",
    "    def __init__(self, speciesP, nameP, habitatP):\n",
    "        self.species = speciesP\n",
    "        self.name = nameP\n",
    "        self.habitat = habitatP\n",
    "        self.test = ['a']\n",
    "    \n",
    "# give input for the parameters in __init__ when we create instances\n",
    "fox1 = Animal('Fennec Fox', 'Dave', 'desert')\n",
    "fox2 = Animal('Arctic Fox', 'Larry', 'tundra')\n",
    "\n",
    "print('easily see all attributes of each instance')\n",
    "# instance.__dict__\n",
    "# a dictionary representation of all attributes of the instance of the class\n",
    "print(fox1.__dict__)\n",
    "print(fox2.__dict__)"
   ]
  },
  {
   "cell_type": "markdown",
   "metadata": {},
   "source": [
    "##### The 'self' Attribute <br>\n",
    "<p>This attribute is required to keep track of specific instance's attributes. Without the self attribute, the program would not know how to reference or keep track of an instance's attributes.</p>"
   ]
  },
  {
   "cell_type": "code",
   "execution_count": null,
   "metadata": {},
   "outputs": [],
   "source": [
    "# see above\n",
    "# a placeholder that is used within a class definition/declaration\n",
    "# as an identifier for different instances of the class that may exist"
   ]
  },
  {
   "cell_type": "markdown",
   "metadata": {},
   "source": [
    "## Class Attributes <br>\n",
    "<p>While variables are inside of a class, they are referred to as attributes and not variables. When someone says 'attribute' you know they're speaking about a class. Attributes can be initialized through the init method, or outside of it.</p>"
   ]
  },
  {
   "cell_type": "markdown",
   "metadata": {},
   "source": [
    "##### Initializing Attributes"
   ]
  },
  {
   "cell_type": "code",
   "execution_count": 1,
   "metadata": {},
   "outputs": [],
   "source": [
    "# see above\n",
    "\n"
   ]
  },
  {
   "cell_type": "markdown",
   "metadata": {},
   "source": [
    "##### Accessing Class Attributes"
   ]
  },
  {
   "cell_type": "code",
   "execution_count": 2,
   "metadata": {
    "scrolled": true
   },
   "outputs": [],
   "source": [
    "# See Above\n",
    "# if you are inside of the class (more on this later)\n",
    "    # self.attribute\n",
    "    \n",
    "# if you are outside of the class (aka working with a specific instance of the class)\n",
    "    # instanceName.attribute\n",
    "    # i.e. fox1.species"
   ]
  },
  {
   "cell_type": "markdown",
   "metadata": {},
   "source": [
    "##### Setting Defaults for Attributes"
   ]
  },
  {
   "cell_type": "code",
   "execution_count": 35,
   "metadata": {},
   "outputs": [
    {
     "name": "stdout",
     "output_type": "stream",
     "text": [
      "easily see all attributes of each instance\n",
      "{'species': 'Fennec Fox', 'name': 'Dave', 'habitat': 'desert'}\n",
      "{'species': 'Scorpion', 'name': 'Scorpio', 'habitat': 'desert'}\n",
      "{'species': 'Arctic Fox', 'name': 'Larry', 'habitat': 'snow'}\n"
     ]
    }
   ],
   "source": [
    "# what if I'm planning to make mostly desert animals\n",
    "# so I want habitat to be 'desert' unless otherwise specified\n",
    "# just use a default argument in the __init__ method!\n",
    "class Animal:\n",
    "    def __init__(self, speciesP, nameP, habitatP='desert'):\n",
    "        self.species = speciesP\n",
    "        self.name = nameP\n",
    "        self.habitat = habitatP\n",
    "    \n",
    "# give input for the parameters in __init__ when we create instances\n",
    "fox1 = Animal('Fennec Fox', 'Dave') # no value for habitatP provided, so the default is used\n",
    "scorp = Animal('Scorpion', 'Scorpio')\n",
    "fox2 = Animal('Arctic Fox', 'Larry', 'snow')\n",
    "\n",
    "print('easily see all attributes of each instance')\n",
    "# instance.__dict__\n",
    "# a dictionary representation of all attributes of the instance of the class\n",
    "print(fox1.__dict__)\n",
    "print(scorp.__dict__)\n",
    "print(fox2.__dict__)"
   ]
  },
  {
   "cell_type": "markdown",
   "metadata": {},
   "source": [
    "##### Changing Class Attributes <br>\n",
    "<p>Keep in mind there are global class attributes (defined outside of __init__) and then there are attributes only available to each class instance which won't affect other class instances (defined inside of __init__).</p>"
   ]
  },
  {
   "cell_type": "code",
   "execution_count": 38,
   "metadata": {},
   "outputs": [
    {
     "name": "stdout",
     "output_type": "stream",
     "text": [
      "BEFORE CHANGE: desert\n",
      "\n",
      " AFTER CHANGE: Australia\n"
     ]
    }
   ],
   "source": [
    "# accessing scorp's habitat\n",
    "\n",
    "# Changing the Default Attribute for this example\n",
    "print(f'BEFORE CHANGE: {scorp.habitat}')\n",
    "\n",
    "# variable redefinition on the instance's attribute\n",
    "scorp.habitat = 'Australia'\n",
    "\n",
    "print(f'\\n AFTER CHANGE: {scorp.habitat}')\n"
   ]
  },
  {
   "cell_type": "code",
   "execution_count": null,
   "metadata": {},
   "outputs": [],
   "source": []
  },
  {
   "cell_type": "markdown",
   "metadata": {},
   "source": [
    "##### In-Class Exercise #2 - Add a doors and seats attribute to your 'Car' class then print out two different instances with different doors and seats"
   ]
  },
  {
   "cell_type": "code",
   "execution_count": 11,
   "metadata": {},
   "outputs": [
    {
     "name": "stdout",
     "output_type": "stream",
     "text": [
      "{'year': 2022, 'make': 'Ferrari', 'model': 'SF-75', 'doors': 0, 'seats': 1}\n",
      "{'year': 2021, 'make': 'Aston Martin', 'model': 'Valkyrie', 'doors': 2, 'seats': 2}\n",
      "Scuderia Ferrari F1's 2022 car is the Ferrari SF-75. The SF-75 has 0 doors and 1 seat.\n"
     ]
    }
   ],
   "source": [
    "# Jeep seats: 4 and Jeep doors: 4 \n",
    "# Honda seats: 2 and Honda doors: 2\n",
    "\n",
    "# class declaration\n",
    "class Car:\n",
    "    def __init__(self, year, make, model, doors=4, seats=5):\n",
    "        self.year = year\n",
    "        self.make = make\n",
    "        self.model = model\n",
    "        self.doors = doors\n",
    "        self.seats = seats\n",
    "\n",
    "# class instantiation\n",
    "car1 = Car(2022, 'Ferrari', 'SF-75', 0, 1)\n",
    "car2 = Car(2021, 'Aston Martin', 'Valkyrie', 2, 2)\n",
    "\n",
    "print(car1.__dict__)\n",
    "print(car2.__dict__)\n",
    "\n",
    "print(f\"Scuderia Ferrari F1's {car1.year} car is the {car1.make} {car1.model}. The {car1.model} has {car1.doors} doors and {car1.seats} seat.\")"
   ]
  },
  {
   "cell_type": "markdown",
   "metadata": {},
   "source": [
    "## Class Methods <br>\n",
    "<p>While inside of a class, functions are referred to as 'methods'. If you hear someone mention methods, they're speaking about classes. Methods are essentially functions, but only callable on the instances of a class.</p>"
   ]
  },
  {
   "cell_type": "markdown",
   "metadata": {},
   "source": [
    "##### Creating"
   ]
  },
  {
   "cell_type": "code",
   "execution_count": 14,
   "metadata": {},
   "outputs": [
    {
     "name": "stdout",
     "output_type": "stream",
     "text": [
      "This car is a 2022 Ferrari SF-75. The SF-75 has 0 doors and 1 seats.\n",
      "This car is a 2021 Aston Martin Valkyrie. The Valkyrie has 2 doors and 2 seats.\n",
      "This car is a 2022 Ferrari SF-75. The SF-75 has 0 doors and 1 seats.\n"
     ]
    }
   ],
   "source": [
    "# creating a method is as simple as defining a function within a class\n",
    "class Car:\n",
    "    def __init__(self, year, make, model, doors=4, seats=5):\n",
    "        self.year = year\n",
    "        self.make = make\n",
    "        self.model = model\n",
    "        self.doors = doors\n",
    "        self.seats = seats\n",
    "\n",
    "    def info(self):\n",
    "        print(f\"This car is a {self.year} {self.make} {self.model}. The {self.model} has {self.doors} doors and {self.seats} seats.\")\n",
    "        \n",
    "        \n",
    "# class instantiation\n",
    "car1 = Car(2022, 'Ferrari', 'SF-75', 0, 1)\n",
    "car2 = Car(2021, 'Aston Martin', 'Valkyrie', 2, 2)\n",
    "\n",
    "car1.info() # car1 is self\n",
    "\n",
    "car2.info() # car2 is self here\n",
    "\n",
    "# using old syntax:\n",
    "Car.info(car1) # Car class info method called with car1 as self"
   ]
  },
  {
   "cell_type": "markdown",
   "metadata": {},
   "source": [
    "##### Calling"
   ]
  },
  {
   "cell_type": "code",
   "execution_count": null,
   "metadata": {},
   "outputs": [],
   "source": [
    "# instanceName.method(<non-self parameters>)\n",
    "\n",
    "# old way: ClassName.method(instanceName, <non-self parameters>)"
   ]
  },
  {
   "cell_type": "markdown",
   "metadata": {},
   "source": [
    "##### Modifying an Attribute's Value Through a Method"
   ]
  },
  {
   "cell_type": "code",
   "execution_count": 27,
   "metadata": {},
   "outputs": [
    {
     "name": "stdout",
     "output_type": "stream",
     "text": [
      "<__main__.Animal object at 0x000001D06A436940> {'species': 'Fennec Fox', 'name': 'Dave', 'habitat': 'desert', 'age': 2}\n",
      "Happy birthday, Dave!\n",
      "Older Dave is now 3.\n",
      "Happy birthday, Older Dave!\n",
      "Older Older Dave is now 4.\n",
      "Happy birthday, Older Older Dave!\n",
      "Older Older Older Dave is now 5.\n",
      "Happy birthday, Doug!\n",
      "Older Doug is now 6.\n",
      "<__main__.Animal object at 0x000001D06A436940> {'species': 'Fennec Fox', 'name': 'Older Doug', 'habitat': 'desert', 'age': 6}\n",
      "{'species': 'Fennec Fox', 'name': 'Dave', 'habitat': 'desert', 'age': 6}\n"
     ]
    }
   ],
   "source": [
    "class Animal:\n",
    "    def __init__(self, speciesP, nameP, habitatP='desert', ageP=0):\n",
    "        self.species = speciesP\n",
    "        self.name = nameP\n",
    "        self.habitat = habitatP\n",
    "        self.age = ageP\n",
    "        \n",
    "    def celebrateBirthday(self):\n",
    "        print(f'Happy birthday, {self.name}!')\n",
    "        self.age += 1 # incrementing the age attribute\n",
    "        self.name = 'Older ' + self.name\n",
    "        print(f'{self.name} is now {self.age}.')\n",
    "        \n",
    "    def setName(self, new_name):\n",
    "        self.name = new_name\n",
    "        \n",
    "fox = Animal('Fennec Fox', 'Dave', ageP=2) # creating an instance of the animal class\n",
    "print(fox, fox.__dict__)\n",
    "fox.celebrateBirthday()\n",
    "fox.celebrateBirthday()\n",
    "fox.celebrateBirthday()\n",
    "fox.setName('Doug')\n",
    "fox.celebrateBirthday()\n",
    "print(fox, fox.__dict__)\n",
    "\n",
    "fox.setName('Dave')\n",
    "print(fox.__dict__)"
   ]
  },
  {
   "cell_type": "code",
   "execution_count": null,
   "metadata": {},
   "outputs": [],
   "source": [
    "# naming conventions - different type cases\n",
    "# camelCase = same as title case except first letter is lowercase\n",
    "# variables, function names, attribute names - the first letter is always lowercase\n",
    "    # commonly see camelCase - aka celebrateBirthday or setName\n",
    "    # or you will see lowercase with underscores - aka celebrate_birthday or set_name\n",
    "# classnames are always title case\n",
    "    # Animal\n",
    "    # AnimalClass\n",
    "    # CodingTempleStudent"
   ]
  },
  {
   "cell_type": "markdown",
   "metadata": {},
   "source": [
    "##### Incrementing an Attribute's Value Through a Method"
   ]
  },
  {
   "cell_type": "code",
   "execution_count": null,
   "metadata": {},
   "outputs": [],
   "source": [
    "# see above"
   ]
  },
  {
   "cell_type": "markdown",
   "metadata": {},
   "source": [
    "##### In-Class Exercise #3 - Add a method that takes in three parameters of year, doors and seats and prints out a formatted print statement with make, model, year, seats, and doors"
   ]
  },
  {
   "cell_type": "code",
   "execution_count": 31,
   "metadata": {},
   "outputs": [
    {
     "name": "stdout",
     "output_type": "stream",
     "text": [
      "This car is a 2022 Ferrari SF-75. The SF-75 has 0 doors and 1 seats.\n",
      "This car is a 2021 Aston Martin Valkyrie. The Valkyrie has 2 doors and 2 seats.\n"
     ]
    }
   ],
   "source": [
    "# Create class with 2 paramters inside of the __init__ which are make and model\n",
    "\n",
    "# Inside of the Car class create a method that has 6 parameter in total (self,year,make,model,door,seats)\n",
    "\n",
    "# Output: This car is from 2019 and is a Ford Expolorer and has 4 doors and 5 seats\n",
    "# creating a method is as simple as defining a function within a class\n",
    "class Car:\n",
    "    def __init__(self, year, make, model, doors=4, seats=5):\n",
    "        self.year = year\n",
    "        self.make = make\n",
    "        self.model = model\n",
    "        self.doors = doors\n",
    "        self.seats = seats\n",
    "\n",
    "    def info(self):\n",
    "        print(f\"This car is a {self.year} {self.make} {self.model}. The {self.model} has {self.doors} doors and {self.seats} seats.\")\n",
    "        \n",
    "        \n",
    "# class instantiation\n",
    "car1 = Car(2022, 'Ferrari', 'SF-75', 0, 1)\n",
    "car2 = Car(2021, 'Aston Martin', 'Valkyrie', 2, 2)\n",
    "\n",
    "car1.info() # car1 is self\n",
    "\n",
    "car2.info() # car2 is self here"
   ]
  },
  {
   "cell_type": "markdown",
   "metadata": {},
   "source": [
    "## Inheritance <br>\n",
    "<p>You can create a child-parent relationship between two classes by using inheritance. What this allows you to do is have overriding methods, but also inherit traits from the parent class. Think of it as an actual parent and child, the child will inherit the parent's genes, as will the classes in OOP</p>"
   ]
  },
  {
   "cell_type": "markdown",
   "metadata": {},
   "source": [
    "##### Syntax for Inheriting from a Parent Class"
   ]
  },
  {
   "cell_type": "code",
   "execution_count": 36,
   "metadata": {},
   "outputs": [
    {
     "name": "stdout",
     "output_type": "stream",
     "text": [
      "<__main__.Fox object at 0x000001D06A387C10> {'species': 'Fennec Fox', 'name': 'Dave', 'habitat': 'desert', 'age': 0}\n"
     ]
    },
    {
     "data": {
      "text/plain": [
       "'Djinn'"
      ]
     },
     "execution_count": 36,
     "metadata": {},
     "output_type": "execute_result"
    }
   ],
   "source": [
    "# parent class\n",
    "class Animal:\n",
    "    def __init__(self, speciesP, nameP, habitatP, ageP=0):\n",
    "        self.species = speciesP\n",
    "        self.name = nameP\n",
    "        self.habitat = habitatP\n",
    "        self.age = ageP\n",
    "        \n",
    "    def setName(self, new_name):\n",
    "        self.name = new_name\n",
    "        \n",
    "# child class - inherits from Animal\n",
    "# class ClassName(ParentClassName):\n",
    "class Fox(Animal):\n",
    "    pass\n",
    "\n",
    "fox = Fox('Fennec Fox', 'Dave', 'desert')\n",
    "print(fox, fox.__dict__)\n",
    "fox.setName('Djinn')\n",
    "fox.name"
   ]
  },
  {
   "cell_type": "markdown",
   "metadata": {},
   "source": [
    "##### The \\__init\\__() Method for a Child Class - super()"
   ]
  },
  {
   "cell_type": "code",
   "execution_count": 40,
   "metadata": {
    "scrolled": true
   },
   "outputs": [
    {
     "name": "stdout",
     "output_type": "stream",
     "text": [
      "<__main__.Fox object at 0x000001D06A436940> {'species': 'Fennec Fox', 'name': 'Dave', 'habitat': 'desert', 'age': 0, 'paws': 4}\n",
      "Yes. Djinn is a fox of the species Fennec Fox.\n"
     ]
    }
   ],
   "source": [
    "# if I want my Fox class to have slightly different attributes than my parent class\n",
    "# parent class\n",
    "class Animal:\n",
    "    def __init__(self, speciesP, nameP, habitatP, ageP=0):\n",
    "        self.species = speciesP\n",
    "        self.name = nameP\n",
    "        self.habitat = habitatP\n",
    "        self.age = ageP\n",
    "        \n",
    "    def setName(self, new_name):\n",
    "        self.name = new_name\n",
    "        \n",
    "# child class - inherits from Animal\n",
    "# class ClassName(ParentClassName):\n",
    "class Fox(Animal):\n",
    "    def __init__(self, speciesP, nameP, habitatP, ageP=0, paws=4):\n",
    "        super().__init__(speciesP, nameP, habitatP)\n",
    "        self.age = ageP\n",
    "        self.paws = paws\n",
    "        \n",
    "    def isThisAFox(self):\n",
    "        print(f'Yes. {self.name} is a fox of the species {self.species}.')\n",
    "\n",
    "fox = Fox('Fennec Fox', 'Dave', 'desert')\n",
    "print(fox, fox.__dict__)\n",
    "fox.setName('Djinn')\n",
    "fox.isThisAFox()"
   ]
  },
  {
   "cell_type": "code",
   "execution_count": 42,
   "metadata": {},
   "outputs": [
    {
     "name": "stdout",
     "output_type": "stream",
     "text": [
      "{'species': 'Orca', 'name': 'Oswalt', 'habitat': 'ocean', 'age': 0}\n"
     ]
    },
    {
     "ename": "AttributeError",
     "evalue": "'Animal' object has no attribute 'isThisAFox'",
     "output_type": "error",
     "traceback": [
      "\u001b[1;31m---------------------------------------------------------------------------\u001b[0m",
      "\u001b[1;31mAttributeError\u001b[0m                            Traceback (most recent call last)",
      "\u001b[1;32m<ipython-input-42-a17d7d80d6b7>\u001b[0m in \u001b[0;36m<module>\u001b[1;34m\u001b[0m\n\u001b[0;32m      4\u001b[0m \u001b[0morca\u001b[0m \u001b[1;33m=\u001b[0m \u001b[0mAnimal\u001b[0m\u001b[1;33m(\u001b[0m\u001b[1;34m'Orca'\u001b[0m\u001b[1;33m,\u001b[0m \u001b[1;34m'Oswalt'\u001b[0m\u001b[1;33m,\u001b[0m \u001b[1;34m'ocean'\u001b[0m\u001b[1;33m)\u001b[0m\u001b[1;33m\u001b[0m\u001b[1;33m\u001b[0m\u001b[0m\n\u001b[0;32m      5\u001b[0m \u001b[0mprint\u001b[0m\u001b[1;33m(\u001b[0m\u001b[0morca\u001b[0m\u001b[1;33m.\u001b[0m\u001b[0m__dict__\u001b[0m\u001b[1;33m)\u001b[0m\u001b[1;33m\u001b[0m\u001b[1;33m\u001b[0m\u001b[0m\n\u001b[1;32m----> 6\u001b[1;33m \u001b[0morca\u001b[0m\u001b[1;33m.\u001b[0m\u001b[0misThisAFox\u001b[0m\u001b[1;33m(\u001b[0m\u001b[1;33m)\u001b[0m\u001b[1;33m\u001b[0m\u001b[1;33m\u001b[0m\u001b[0m\n\u001b[0m",
      "\u001b[1;31mAttributeError\u001b[0m: 'Animal' object has no attribute 'isThisAFox'"
     ]
    }
   ],
   "source": [
    "# inheritance in python is one directional\n",
    "    # a method defined in the parent class will exist/be usable by the child class\n",
    "    # a method defined in the child class will not be usable/will not exist in the parent class\n",
    "orca = Animal('Orca', 'Oswalt', 'ocean')\n",
    "print(orca.__dict__)\n",
    "orca.isThisAFox()"
   ]
  },
  {
   "cell_type": "markdown",
   "metadata": {},
   "source": [
    "##### Defining Attributes and Methods for the Child Class"
   ]
  },
  {
   "cell_type": "code",
   "execution_count": null,
   "metadata": {},
   "outputs": [],
   "source": [
    "# See Above"
   ]
  },
  {
   "cell_type": "markdown",
   "metadata": {},
   "source": [
    "##### Method Overriding"
   ]
  },
  {
   "cell_type": "code",
   "execution_count": 46,
   "metadata": {},
   "outputs": [
    {
     "name": "stdout",
     "output_type": "stream",
     "text": [
      "<__main__.Fox object at 0x000001D06A457580> {'species': 'Fennec Fox', 'name': 'Dave', 'habitat': 'desert', 'age': 0, 'paws': 4}\n",
      "Yes. Djinn is a fox of the species Fennec Fox.\n",
      "Djinn is a 0 year old Fennec Fox. They live in the desert.\n",
      "This is a Orca. They are 0 years old and named Oregano.\n"
     ]
    }
   ],
   "source": [
    "# See Above\n",
    "# we can define a method or attribute of the same name for the child Class \n",
    "    # and override (aka change) the behaviour inherited from the parent class\n",
    "    \n",
    "# if I want my Fox class to have slightly different attributes than my parent class\n",
    "# parent class\n",
    "class Animal:\n",
    "    def __init__(self, speciesP, nameP, habitatP, ageP=0):\n",
    "        self.species = speciesP\n",
    "        self.name = nameP\n",
    "        self.habitat = habitatP\n",
    "        self.age = ageP\n",
    "        \n",
    "    def setName(self, new_name):\n",
    "        self.name = new_name\n",
    "        \n",
    "    def info(self):\n",
    "        print(f'This is a {self.species}. They are {self.age} years old and named {self.name}.')\n",
    "        \n",
    "# child class - inherits from Animal\n",
    "# class ClassName(ParentClassName):\n",
    "class Fox(Animal):\n",
    "    def __init__(self, speciesP, nameP, habitatP, ageP=0, paws=4):\n",
    "        super().__init__(speciesP, nameP, habitatP)\n",
    "        self.age = ageP\n",
    "        self.paws = paws\n",
    "        \n",
    "    def isThisAFox(self):\n",
    "        print(f'Yes. {self.name} is a fox of the species {self.species}.')\n",
    "    \n",
    "    # simply redefine the method to override the parent class' behaviour\n",
    "    def info(self):\n",
    "        print(f'{self.name} is a {self.age} year old {self.species}. They live in the {self.habitat}.')\n",
    "\n",
    "orca = Animal('Orca', 'Oregano', 'ocean')\n",
    "fox = Fox('Fennec Fox', 'Dave', 'desert')\n",
    "print(fox, fox.__dict__)\n",
    "fox.setName('Djinn')\n",
    "fox.isThisAFox()\n",
    "fox.info()\n",
    "orca.info()"
   ]
  },
  {
   "cell_type": "markdown",
   "metadata": {},
   "source": [
    "## Classes as Attributes <br>\n",
    "<p>Classes can also be used as attributes within another class. This is useful in situations where you need to keep variables locally stored, instead of globally stored.</p>"
   ]
  },
  {
   "cell_type": "code",
   "execution_count": 69,
   "metadata": {},
   "outputs": [
    {
     "name": "stdout",
     "output_type": "stream",
     "text": [
      "True\n",
      "{'name': 'Australia Zoo', 'location': 'Queensland, Australia', 'zookeeper': <__main__.Zookeeper object at 0x000001D06A387520>, 'animals': []}\n",
      "\n",
      "\n",
      "What species is our new animal? Fennec Fox\n",
      "What is the name of the new animal? Djinn\n",
      "What habitat does the new animal live in? desert\n",
      "How old is the new animal? 2\n",
      "Djinn is a 2 year old Fennec Fox who lives in the desert.\n",
      "Djinn, a Fennec Fox, now lives at the Australia Zoo!\n",
      "Add another animal? (hit only enter to quit)\n",
      "[<__main__.Animal object at 0x000001D06A32D550>]\n",
      "Hey, I'm Steve Irwin! Let me give you a tour of the Australia Zoo!\n",
      "Djinn is a 2 year old Fennec Fox who lives in the desert.\n"
     ]
    }
   ],
   "source": [
    "# I want to make a zoo\n",
    "# That zoo will have a location, a zookeeper, a name, a bunch of animals\n",
    "# That zookeeper will have a name, an age\n",
    "# That zookeeper will be able to give tours\n",
    "# The zoo will be able to get new animals\n",
    "# The animals will all have a habitat, a species, a name\n",
    "    # info() method?\n",
    "\n",
    "class Zoo:\n",
    "    def __init__(self, name, location, zookeeper):\n",
    "        self.name = name\n",
    "        self.location = location\n",
    "        self.zookeeper = zookeeper\n",
    "        self.animals = []\n",
    "        \n",
    "    # create getNewAnimal method later\n",
    "    def getNewAnimal(self):\n",
    "        s = input('What species is our new animal? ').title()\n",
    "        n = input('What is the name of the new animal? ')\n",
    "        h = input('What habitat does the new animal live in? ')\n",
    "        a = int(input('How old is the new animal? '))\n",
    "        newanimal = Animal(s, n, h, a)\n",
    "        newanimal.info()\n",
    "        self.animals.append(newanimal)\n",
    "        print(f'{n}, a {s}, now lives at the {self.name}!')\n",
    "\n",
    "class Zookeeper:\n",
    "    def __init__(self, name, age):\n",
    "        self.name = name\n",
    "        self.age = age\n",
    "        \n",
    "    def giveTour(self, a_zoo):\n",
    "        print(f\"Hey, I'm {self.name}! Let me give you a tour of the {a_zoo.name}!\")\n",
    "        for animal in a_zoo.animals:\n",
    "            animal.info()\n",
    "\n",
    "class Animal:\n",
    "    def __init__(self, species, name, habitat, age):\n",
    "        self.species = species\n",
    "        self.name = name\n",
    "        self.habitat = habitat\n",
    "        self.age = age\n",
    "        \n",
    "    def info(self):\n",
    "        print(f'{self.name} is a {self.age} year old {self.species} who lives in the {self.habitat}.')\n",
    "        \n",
    "# create a zookeeper\n",
    "steve = Zookeeper('Steve Irwin', 'timeless')\n",
    "# create a zoo with our zookeeper as the zookeeper\n",
    "aus = Zoo('Australia Zoo', 'Queensland, Australia', steve)\n",
    "print(aus.zookeeper is steve)\n",
    "print(aus.__dict__)\n",
    "# steve is accessible either thru steve or thru aus.zookeeper\n",
    "aus.zookeeper.name\n",
    "\n",
    "print('\\n')\n",
    "# add an animal\n",
    "while True:\n",
    "    aus.getNewAnimal()\n",
    "    if not input('Add another animal? (hit only enter to quit)'):\n",
    "        break\n",
    "print(aus.animals)\n",
    "steve.giveTour(aus)"
   ]
  },
  {
   "cell_type": "markdown",
   "metadata": {},
   "source": [
    "# Exercises"
   ]
  },
  {
   "cell_type": "markdown",
   "metadata": {},
   "source": [
    "### Exercise 1 - Turn the shopping cart program from yesterday into an object-oriented program\n",
    "\n",
    "The comments in the cell below are there as a guide for thinking about the problem. However, if you feel a different way is best for you and your own thought process, please do what feels best for you by all means."
   ]
  },
  {
   "cell_type": "code",
   "execution_count": null,
   "metadata": {},
   "outputs": [],
   "source": [
    "# Create a class called cart that retains items and has methods to add, remove, and show\n",
    "\n",
    "class Cart():\n",
    "    pass\n",
    "    "
   ]
  },
  {
   "cell_type": "markdown",
   "metadata": {},
   "source": [
    "### Exercise 2 - Write a Python class which has two methods get_String and print_String. get_String accept a string from the user and print_String print the string in upper case"
   ]
  },
  {
   "cell_type": "code",
   "execution_count": null,
   "metadata": {},
   "outputs": [],
   "source": []
  }
 ],
 "metadata": {
  "kernelspec": {
   "display_name": "Python 3",
   "language": "python",
   "name": "python3"
  },
  "language_info": {
   "codemirror_mode": {
    "name": "ipython",
    "version": 3
   },
   "file_extension": ".py",
   "mimetype": "text/x-python",
   "name": "python",
   "nbconvert_exporter": "python",
   "pygments_lexer": "ipython3",
   "version": "3.8.8"
  }
 },
 "nbformat": 4,
 "nbformat_minor": 2
}
